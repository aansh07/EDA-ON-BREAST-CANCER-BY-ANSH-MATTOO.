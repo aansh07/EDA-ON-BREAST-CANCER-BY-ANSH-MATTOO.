{
 "cells": [
  {
   "cell_type": "code",
   "execution_count": 1,
   "id": "4a8c2c49",
   "metadata": {},
   "outputs": [],
   "source": [
    "import pandas as pd\n",
    "import numpy as np\n",
    "import matplotlib.pyplot as plt\n",
    "%matplotlib inline\n",
    "import seaborn as sns"
   ]
  },
  {
   "cell_type": "code",
   "execution_count": 2,
   "id": "ed7ee675",
   "metadata": {},
   "outputs": [],
   "source": [
    "df=pd.read_csv(\"breast_cancer_survival.csv\")"
   ]
  },
  {
   "cell_type": "code",
   "execution_count": 3,
   "id": "603a6dc1",
   "metadata": {},
   "outputs": [
    {
     "data": {
      "text/html": [
       "<div>\n",
       "<style scoped>\n",
       "    .dataframe tbody tr th:only-of-type {\n",
       "        vertical-align: middle;\n",
       "    }\n",
       "\n",
       "    .dataframe tbody tr th {\n",
       "        vertical-align: top;\n",
       "    }\n",
       "\n",
       "    .dataframe thead th {\n",
       "        text-align: right;\n",
       "    }\n",
       "</style>\n",
       "<table border=\"1\" class=\"dataframe\">\n",
       "  <thead>\n",
       "    <tr style=\"text-align: right;\">\n",
       "      <th></th>\n",
       "      <th>Age</th>\n",
       "      <th>Gender</th>\n",
       "      <th>Protein1</th>\n",
       "      <th>Protein2</th>\n",
       "      <th>Protein3</th>\n",
       "      <th>Protein4</th>\n",
       "      <th>Tumour_Stage</th>\n",
       "      <th>Histology</th>\n",
       "      <th>ER status</th>\n",
       "      <th>PR status</th>\n",
       "      <th>HER2 status</th>\n",
       "      <th>Surgery_type</th>\n",
       "      <th>Date_of_Surgery</th>\n",
       "      <th>Date_of_Last_Visit</th>\n",
       "      <th>Patient_Status</th>\n",
       "    </tr>\n",
       "  </thead>\n",
       "  <tbody>\n",
       "    <tr>\n",
       "      <th>0</th>\n",
       "      <td>42</td>\n",
       "      <td>FEMALE</td>\n",
       "      <td>0.95256</td>\n",
       "      <td>2.15000</td>\n",
       "      <td>0.007972</td>\n",
       "      <td>-0.048340</td>\n",
       "      <td>II</td>\n",
       "      <td>Infiltrating Ductal Carcinoma</td>\n",
       "      <td>Positive</td>\n",
       "      <td>Positive</td>\n",
       "      <td>Negative</td>\n",
       "      <td>Other</td>\n",
       "      <td>20-May-18</td>\n",
       "      <td>26-Aug-18</td>\n",
       "      <td>Alive</td>\n",
       "    </tr>\n",
       "    <tr>\n",
       "      <th>1</th>\n",
       "      <td>54</td>\n",
       "      <td>FEMALE</td>\n",
       "      <td>0.00000</td>\n",
       "      <td>1.38020</td>\n",
       "      <td>-0.498030</td>\n",
       "      <td>-0.507320</td>\n",
       "      <td>II</td>\n",
       "      <td>Infiltrating Ductal Carcinoma</td>\n",
       "      <td>Positive</td>\n",
       "      <td>Positive</td>\n",
       "      <td>Negative</td>\n",
       "      <td>Other</td>\n",
       "      <td>26-Apr-18</td>\n",
       "      <td>25-Jan-19</td>\n",
       "      <td>Dead</td>\n",
       "    </tr>\n",
       "    <tr>\n",
       "      <th>2</th>\n",
       "      <td>63</td>\n",
       "      <td>FEMALE</td>\n",
       "      <td>-0.52303</td>\n",
       "      <td>1.76400</td>\n",
       "      <td>-0.370190</td>\n",
       "      <td>0.010815</td>\n",
       "      <td>II</td>\n",
       "      <td>Infiltrating Ductal Carcinoma</td>\n",
       "      <td>Positive</td>\n",
       "      <td>Positive</td>\n",
       "      <td>Negative</td>\n",
       "      <td>Lumpectomy</td>\n",
       "      <td>24-Aug-18</td>\n",
       "      <td>08-Apr-20</td>\n",
       "      <td>Alive</td>\n",
       "    </tr>\n",
       "    <tr>\n",
       "      <th>3</th>\n",
       "      <td>78</td>\n",
       "      <td>FEMALE</td>\n",
       "      <td>-0.87618</td>\n",
       "      <td>0.12943</td>\n",
       "      <td>-0.370380</td>\n",
       "      <td>0.132190</td>\n",
       "      <td>I</td>\n",
       "      <td>Infiltrating Ductal Carcinoma</td>\n",
       "      <td>Positive</td>\n",
       "      <td>Positive</td>\n",
       "      <td>Negative</td>\n",
       "      <td>Other</td>\n",
       "      <td>16-Nov-18</td>\n",
       "      <td>28-Jul-20</td>\n",
       "      <td>Alive</td>\n",
       "    </tr>\n",
       "    <tr>\n",
       "      <th>4</th>\n",
       "      <td>42</td>\n",
       "      <td>FEMALE</td>\n",
       "      <td>0.22611</td>\n",
       "      <td>1.74910</td>\n",
       "      <td>-0.543970</td>\n",
       "      <td>-0.390210</td>\n",
       "      <td>II</td>\n",
       "      <td>Infiltrating Ductal Carcinoma</td>\n",
       "      <td>Positive</td>\n",
       "      <td>Positive</td>\n",
       "      <td>Positive</td>\n",
       "      <td>Lumpectomy</td>\n",
       "      <td>12-Dec-18</td>\n",
       "      <td>05-Jan-19</td>\n",
       "      <td>Alive</td>\n",
       "    </tr>\n",
       "  </tbody>\n",
       "</table>\n",
       "</div>"
      ],
      "text/plain": [
       "   Age  Gender  Protein1  Protein2  Protein3  Protein4 Tumour_Stage  \\\n",
       "0   42  FEMALE   0.95256   2.15000  0.007972 -0.048340           II   \n",
       "1   54  FEMALE   0.00000   1.38020 -0.498030 -0.507320           II   \n",
       "2   63  FEMALE  -0.52303   1.76400 -0.370190  0.010815           II   \n",
       "3   78  FEMALE  -0.87618   0.12943 -0.370380  0.132190            I   \n",
       "4   42  FEMALE   0.22611   1.74910 -0.543970 -0.390210           II   \n",
       "\n",
       "                       Histology ER status PR status HER2 status Surgery_type  \\\n",
       "0  Infiltrating Ductal Carcinoma  Positive  Positive    Negative        Other   \n",
       "1  Infiltrating Ductal Carcinoma  Positive  Positive    Negative        Other   \n",
       "2  Infiltrating Ductal Carcinoma  Positive  Positive    Negative   Lumpectomy   \n",
       "3  Infiltrating Ductal Carcinoma  Positive  Positive    Negative        Other   \n",
       "4  Infiltrating Ductal Carcinoma  Positive  Positive    Positive   Lumpectomy   \n",
       "\n",
       "  Date_of_Surgery Date_of_Last_Visit Patient_Status  \n",
       "0       20-May-18          26-Aug-18          Alive  \n",
       "1       26-Apr-18          25-Jan-19           Dead  \n",
       "2       24-Aug-18          08-Apr-20          Alive  \n",
       "3       16-Nov-18          28-Jul-20          Alive  \n",
       "4       12-Dec-18          05-Jan-19          Alive  "
      ]
     },
     "execution_count": 3,
     "metadata": {},
     "output_type": "execute_result"
    }
   ],
   "source": [
    "df.head()"
   ]
  },
  {
   "cell_type": "code",
   "execution_count": 4,
   "id": "68f0607f",
   "metadata": {},
   "outputs": [
    {
     "name": "stdout",
     "output_type": "stream",
     "text": [
      "<class 'pandas.core.frame.DataFrame'>\n",
      "RangeIndex: 334 entries, 0 to 333\n",
      "Data columns (total 15 columns):\n",
      " #   Column              Non-Null Count  Dtype  \n",
      "---  ------              --------------  -----  \n",
      " 0   Age                 334 non-null    int64  \n",
      " 1   Gender              334 non-null    object \n",
      " 2   Protein1            334 non-null    float64\n",
      " 3   Protein2            334 non-null    float64\n",
      " 4   Protein3            334 non-null    float64\n",
      " 5   Protein4            334 non-null    float64\n",
      " 6   Tumour_Stage        334 non-null    object \n",
      " 7   Histology           334 non-null    object \n",
      " 8   ER status           334 non-null    object \n",
      " 9   PR status           334 non-null    object \n",
      " 10  HER2 status         334 non-null    object \n",
      " 11  Surgery_type        334 non-null    object \n",
      " 12  Date_of_Surgery     334 non-null    object \n",
      " 13  Date_of_Last_Visit  317 non-null    object \n",
      " 14  Patient_Status      321 non-null    object \n",
      "dtypes: float64(4), int64(1), object(10)\n",
      "memory usage: 39.3+ KB\n"
     ]
    }
   ],
   "source": [
    "df.info()"
   ]
  },
  {
   "cell_type": "code",
   "execution_count": 5,
   "id": "64306d4d",
   "metadata": {},
   "outputs": [
    {
     "data": {
      "text/html": [
       "<div>\n",
       "<style scoped>\n",
       "    .dataframe tbody tr th:only-of-type {\n",
       "        vertical-align: middle;\n",
       "    }\n",
       "\n",
       "    .dataframe tbody tr th {\n",
       "        vertical-align: top;\n",
       "    }\n",
       "\n",
       "    .dataframe thead th {\n",
       "        text-align: right;\n",
       "    }\n",
       "</style>\n",
       "<table border=\"1\" class=\"dataframe\">\n",
       "  <thead>\n",
       "    <tr style=\"text-align: right;\">\n",
       "      <th></th>\n",
       "      <th>Age</th>\n",
       "      <th>Protein1</th>\n",
       "      <th>Protein2</th>\n",
       "      <th>Protein3</th>\n",
       "      <th>Protein4</th>\n",
       "    </tr>\n",
       "  </thead>\n",
       "  <tbody>\n",
       "    <tr>\n",
       "      <th>count</th>\n",
       "      <td>334.000000</td>\n",
       "      <td>334.000000</td>\n",
       "      <td>334.000000</td>\n",
       "      <td>334.000000</td>\n",
       "      <td>334.000000</td>\n",
       "    </tr>\n",
       "    <tr>\n",
       "      <th>mean</th>\n",
       "      <td>58.886228</td>\n",
       "      <td>-0.029991</td>\n",
       "      <td>0.946896</td>\n",
       "      <td>-0.090204</td>\n",
       "      <td>0.009819</td>\n",
       "    </tr>\n",
       "    <tr>\n",
       "      <th>std</th>\n",
       "      <td>12.961212</td>\n",
       "      <td>0.563588</td>\n",
       "      <td>0.911637</td>\n",
       "      <td>0.585175</td>\n",
       "      <td>0.629055</td>\n",
       "    </tr>\n",
       "    <tr>\n",
       "      <th>min</th>\n",
       "      <td>29.000000</td>\n",
       "      <td>-2.340900</td>\n",
       "      <td>-0.978730</td>\n",
       "      <td>-1.627400</td>\n",
       "      <td>-2.025500</td>\n",
       "    </tr>\n",
       "    <tr>\n",
       "      <th>25%</th>\n",
       "      <td>49.000000</td>\n",
       "      <td>-0.358888</td>\n",
       "      <td>0.362173</td>\n",
       "      <td>-0.513748</td>\n",
       "      <td>-0.377090</td>\n",
       "    </tr>\n",
       "    <tr>\n",
       "      <th>50%</th>\n",
       "      <td>58.000000</td>\n",
       "      <td>0.006129</td>\n",
       "      <td>0.992805</td>\n",
       "      <td>-0.173180</td>\n",
       "      <td>0.041768</td>\n",
       "    </tr>\n",
       "    <tr>\n",
       "      <th>75%</th>\n",
       "      <td>68.000000</td>\n",
       "      <td>0.343598</td>\n",
       "      <td>1.627900</td>\n",
       "      <td>0.278353</td>\n",
       "      <td>0.425630</td>\n",
       "    </tr>\n",
       "    <tr>\n",
       "      <th>max</th>\n",
       "      <td>90.000000</td>\n",
       "      <td>1.593600</td>\n",
       "      <td>3.402200</td>\n",
       "      <td>2.193400</td>\n",
       "      <td>1.629900</td>\n",
       "    </tr>\n",
       "  </tbody>\n",
       "</table>\n",
       "</div>"
      ],
      "text/plain": [
       "              Age    Protein1    Protein2    Protein3    Protein4\n",
       "count  334.000000  334.000000  334.000000  334.000000  334.000000\n",
       "mean    58.886228   -0.029991    0.946896   -0.090204    0.009819\n",
       "std     12.961212    0.563588    0.911637    0.585175    0.629055\n",
       "min     29.000000   -2.340900   -0.978730   -1.627400   -2.025500\n",
       "25%     49.000000   -0.358888    0.362173   -0.513748   -0.377090\n",
       "50%     58.000000    0.006129    0.992805   -0.173180    0.041768\n",
       "75%     68.000000    0.343598    1.627900    0.278353    0.425630\n",
       "max     90.000000    1.593600    3.402200    2.193400    1.629900"
      ]
     },
     "execution_count": 5,
     "metadata": {},
     "output_type": "execute_result"
    }
   ],
   "source": [
    "df.describe()"
   ]
  },
  {
   "cell_type": "code",
   "execution_count": 6,
   "id": "fd8c3a10",
   "metadata": {},
   "outputs": [
    {
     "data": {
      "text/html": [
       "<div>\n",
       "<style scoped>\n",
       "    .dataframe tbody tr th:only-of-type {\n",
       "        vertical-align: middle;\n",
       "    }\n",
       "\n",
       "    .dataframe tbody tr th {\n",
       "        vertical-align: top;\n",
       "    }\n",
       "\n",
       "    .dataframe thead th {\n",
       "        text-align: right;\n",
       "    }\n",
       "</style>\n",
       "<table border=\"1\" class=\"dataframe\">\n",
       "  <thead>\n",
       "    <tr style=\"text-align: right;\">\n",
       "      <th></th>\n",
       "      <th>Age</th>\n",
       "      <th>Gender</th>\n",
       "      <th>Protein1</th>\n",
       "      <th>Protein2</th>\n",
       "      <th>Protein3</th>\n",
       "      <th>Protein4</th>\n",
       "      <th>Tumour_Stage</th>\n",
       "      <th>Histology</th>\n",
       "      <th>ER status</th>\n",
       "      <th>PR status</th>\n",
       "      <th>HER2 status</th>\n",
       "      <th>Surgery_type</th>\n",
       "      <th>Date_of_Surgery</th>\n",
       "      <th>Date_of_Last_Visit</th>\n",
       "      <th>Patient_Status</th>\n",
       "    </tr>\n",
       "  </thead>\n",
       "  <tbody>\n",
       "    <tr>\n",
       "      <th>0</th>\n",
       "      <td>42</td>\n",
       "      <td>FEMALE</td>\n",
       "      <td>0.95256</td>\n",
       "      <td>2.1500</td>\n",
       "      <td>0.007972</td>\n",
       "      <td>-0.04834</td>\n",
       "      <td>II</td>\n",
       "      <td>Infiltrating Ductal Carcinoma</td>\n",
       "      <td>Positive</td>\n",
       "      <td>Positive</td>\n",
       "      <td>Negative</td>\n",
       "      <td>Other</td>\n",
       "      <td>20-May-18</td>\n",
       "      <td>26-Aug-18</td>\n",
       "      <td>Alive</td>\n",
       "    </tr>\n",
       "    <tr>\n",
       "      <th>1</th>\n",
       "      <td>54</td>\n",
       "      <td>FEMALE</td>\n",
       "      <td>0.00000</td>\n",
       "      <td>1.3802</td>\n",
       "      <td>-0.498030</td>\n",
       "      <td>-0.50732</td>\n",
       "      <td>II</td>\n",
       "      <td>Infiltrating Ductal Carcinoma</td>\n",
       "      <td>Positive</td>\n",
       "      <td>Positive</td>\n",
       "      <td>Negative</td>\n",
       "      <td>Other</td>\n",
       "      <td>26-Apr-18</td>\n",
       "      <td>25-Jan-19</td>\n",
       "      <td>Dead</td>\n",
       "    </tr>\n",
       "  </tbody>\n",
       "</table>\n",
       "</div>"
      ],
      "text/plain": [
       "   Age  Gender  Protein1  Protein2  Protein3  Protein4 Tumour_Stage  \\\n",
       "0   42  FEMALE   0.95256    2.1500  0.007972  -0.04834           II   \n",
       "1   54  FEMALE   0.00000    1.3802 -0.498030  -0.50732           II   \n",
       "\n",
       "                       Histology ER status PR status HER2 status Surgery_type  \\\n",
       "0  Infiltrating Ductal Carcinoma  Positive  Positive    Negative        Other   \n",
       "1  Infiltrating Ductal Carcinoma  Positive  Positive    Negative        Other   \n",
       "\n",
       "  Date_of_Surgery Date_of_Last_Visit Patient_Status  \n",
       "0       20-May-18          26-Aug-18          Alive  \n",
       "1       26-Apr-18          25-Jan-19           Dead  "
      ]
     },
     "execution_count": 6,
     "metadata": {},
     "output_type": "execute_result"
    }
   ],
   "source": [
    "df.head(2)"
   ]
  },
  {
   "cell_type": "markdown",
   "id": "392a2282",
   "metadata": {},
   "source": [
    "# Columns Types.\n",
    "    1.Numerical Or  Continous Variables:->\"Age,\"Protein1,2,3\"\n",
    "    2.Categorical Variables:->\"Tumour_Stage\",\"ER status\",\"PR status\",\"HER2 status\",\"Surgery_type\",\"Patient_Status\",\"gender\".\n",
    "    3.mixed->Histology.\"Date_of_Surgery\",\"Date_of_Last_Visit\""
   ]
  },
  {
   "cell_type": "code",
   "execution_count": 7,
   "id": "b7cb1671",
   "metadata": {},
   "outputs": [
    {
     "data": {
      "text/plain": [
       "count    334.000000\n",
       "mean      58.886228\n",
       "std       12.961212\n",
       "min       29.000000\n",
       "25%       49.000000\n",
       "50%       58.000000\n",
       "75%       68.000000\n",
       "max       90.000000\n",
       "Name: Age, dtype: float64"
      ]
     },
     "execution_count": 7,
     "metadata": {},
     "output_type": "execute_result"
    }
   ],
   "source": [
    "#univariate analysis on numerical variables.\n",
    "df[\"Age\"].describe()"
   ]
  },
  {
   "cell_type": "code",
   "execution_count": 8,
   "id": "159f604f",
   "metadata": {},
   "outputs": [
    {
     "data": {
      "text/plain": [
       "(array([ 2.,  1.,  1.,  5.,  6., 12.,  8., 14., 21., 16., 23., 18., 17.,\n",
       "        19., 21., 17., 25., 12., 11., 14.,  9.,  6.,  9., 13., 10.,  5.,\n",
       "         4.,  8.,  2.,  5.]),\n",
       " array([29.        , 31.03333333, 33.06666667, 35.1       , 37.13333333,\n",
       "        39.16666667, 41.2       , 43.23333333, 45.26666667, 47.3       ,\n",
       "        49.33333333, 51.36666667, 53.4       , 55.43333333, 57.46666667,\n",
       "        59.5       , 61.53333333, 63.56666667, 65.6       , 67.63333333,\n",
       "        69.66666667, 71.7       , 73.73333333, 75.76666667, 77.8       ,\n",
       "        79.83333333, 81.86666667, 83.9       , 85.93333333, 87.96666667,\n",
       "        90.        ]),\n",
       " <BarContainer object of 30 artists>)"
      ]
     },
     "execution_count": 8,
     "metadata": {},
     "output_type": "execute_result"
    },
    {
     "data": {
      "image/png": "[encoded data removed]",
      "text/plain": [
       "<Figure size 640x480 with 1 Axes>"
      ]
     },
     "metadata": {},
     "output_type": "display_data"
    }
   ],
   "source": [
    "plt.hist(df[\"Age\"],bins=30)"
   ]
  },
  {
   "cell_type": "code",
   "execution_count": 9,
   "id": "b1c13e76",
   "metadata": {},
   "outputs": [
    {
     "data": {
      "text/plain": [
       "<Axes: ylabel='Density'>"
      ]
     },
     "execution_count": 9,
     "metadata": {},
     "output_type": "execute_result"
    },
    {
     "data": {
      "image/png": "[encoded data removed]",
      "text/plain": [
       "<Figure size 640x480 with 1 Axes>"
      ]
     },
     "metadata": {},
     "output_type": "display_data"
    }
   ],
   "source": [
    "df[\"Age\"].plot(kind=\"kde\")"
   ]
  },
  {
   "cell_type": "code",
   "execution_count": 10,
   "id": "07f34a8e",
   "metadata": {},
   "outputs": [
    {
     "data": {
      "text/plain": [
       "<Axes: >"
      ]
     },
     "execution_count": 10,
     "metadata": {},
     "output_type": "execute_result"
    },
    {
     "data": {
      "image/png": "[encoded data removed]",
      "text/plain": [
       "<Figure size 640x480 with 1 Axes>"
      ]
     },
     "metadata": {},
     "output_type": "display_data"
    }
   ],
   "source": [
    "sns.boxplot(df[\"Age\"])"
   ]
  },
  {
   "cell_type": "code",
   "execution_count": 11,
   "id": "138c9a87",
   "metadata": {},
   "outputs": [
    {
     "data": {
      "text/plain": [
       "0.3041337225108598"
      ]
     },
     "execution_count": 11,
     "metadata": {},
     "output_type": "execute_result"
    }
   ],
   "source": [
    "df[\"Age\"].skew()"
   ]
  },
  {
   "cell_type": "markdown",
   "id": "2304a132",
   "metadata": {},
   "source": [
    "# Conclusion\n",
    "     1.Age is normal distributed.\n",
    "     2.Majority of  womens age is between 59-65\n",
    "     3.It's is postively skewed."
   ]
  },
  {
   "cell_type": "code",
   "execution_count": 12,
   "id": "41e3d5f6",
   "metadata": {},
   "outputs": [
    {
     "data": {
      "text/plain": [
       "count    334.000000\n",
       "mean      -0.029991\n",
       "std        0.563588\n",
       "min       -2.340900\n",
       "25%       -0.358888\n",
       "50%        0.006129\n",
       "75%        0.343598\n",
       "max        1.593600\n",
       "Name: Protein1, dtype: float64"
      ]
     },
     "execution_count": 12,
     "metadata": {},
     "output_type": "execute_result"
    }
   ],
   "source": [
    "#univariate analysis on protein\n",
    "df[\"Protein1\"].describe()"
   ]
  },
  {
   "cell_type": "code",
   "execution_count": 13,
   "id": "4f8d251f",
   "metadata": {},
   "outputs": [
    {
     "data": {
      "text/html": [
       "<div>\n",
       "<style scoped>\n",
       "    .dataframe tbody tr th:only-of-type {\n",
       "        vertical-align: middle;\n",
       "    }\n",
       "\n",
       "    .dataframe tbody tr th {\n",
       "        vertical-align: top;\n",
       "    }\n",
       "\n",
       "    .dataframe thead th {\n",
       "        text-align: right;\n",
       "    }\n",
       "</style>\n",
       "<table border=\"1\" class=\"dataframe\">\n",
       "  <thead>\n",
       "    <tr style=\"text-align: right;\">\n",
       "      <th></th>\n",
       "      <th>Age</th>\n",
       "      <th>Gender</th>\n",
       "      <th>Protein1</th>\n",
       "      <th>Protein2</th>\n",
       "      <th>Protein3</th>\n",
       "      <th>Protein4</th>\n",
       "      <th>Tumour_Stage</th>\n",
       "      <th>Histology</th>\n",
       "      <th>ER status</th>\n",
       "      <th>PR status</th>\n",
       "      <th>HER2 status</th>\n",
       "      <th>Surgery_type</th>\n",
       "      <th>Date_of_Surgery</th>\n",
       "      <th>Date_of_Last_Visit</th>\n",
       "      <th>Patient_Status</th>\n",
       "    </tr>\n",
       "  </thead>\n",
       "  <tbody>\n",
       "    <tr>\n",
       "      <th>0</th>\n",
       "      <td>42</td>\n",
       "      <td>FEMALE</td>\n",
       "      <td>0.95256</td>\n",
       "      <td>2.1500</td>\n",
       "      <td>0.007972</td>\n",
       "      <td>-0.04834</td>\n",
       "      <td>II</td>\n",
       "      <td>Infiltrating Ductal Carcinoma</td>\n",
       "      <td>Positive</td>\n",
       "      <td>Positive</td>\n",
       "      <td>Negative</td>\n",
       "      <td>Other</td>\n",
       "      <td>20-May-18</td>\n",
       "      <td>26-Aug-18</td>\n",
       "      <td>Alive</td>\n",
       "    </tr>\n",
       "    <tr>\n",
       "      <th>1</th>\n",
       "      <td>54</td>\n",
       "      <td>FEMALE</td>\n",
       "      <td>0.00000</td>\n",
       "      <td>1.3802</td>\n",
       "      <td>-0.498030</td>\n",
       "      <td>-0.50732</td>\n",
       "      <td>II</td>\n",
       "      <td>Infiltrating Ductal Carcinoma</td>\n",
       "      <td>Positive</td>\n",
       "      <td>Positive</td>\n",
       "      <td>Negative</td>\n",
       "      <td>Other</td>\n",
       "      <td>26-Apr-18</td>\n",
       "      <td>25-Jan-19</td>\n",
       "      <td>Dead</td>\n",
       "    </tr>\n",
       "  </tbody>\n",
       "</table>\n",
       "</div>"
      ],
      "text/plain": [
       "   Age  Gender  Protein1  Protein2  Protein3  Protein4 Tumour_Stage  \\\n",
       "0   42  FEMALE   0.95256    2.1500  0.007972  -0.04834           II   \n",
       "1   54  FEMALE   0.00000    1.3802 -0.498030  -0.50732           II   \n",
       "\n",
       "                       Histology ER status PR status HER2 status Surgery_type  \\\n",
       "0  Infiltrating Ductal Carcinoma  Positive  Positive    Negative        Other   \n",
       "1  Infiltrating Ductal Carcinoma  Positive  Positive    Negative        Other   \n",
       "\n",
       "  Date_of_Surgery Date_of_Last_Visit Patient_Status  \n",
       "0       20-May-18          26-Aug-18          Alive  \n",
       "1       26-Apr-18          25-Jan-19           Dead  "
      ]
     },
     "execution_count": 13,
     "metadata": {},
     "output_type": "execute_result"
    }
   ],
   "source": [
    "df.head(2)"
   ]
  },
  {
   "cell_type": "code",
   "execution_count": 14,
   "id": "9f131c05",
   "metadata": {},
   "outputs": [
    {
     "data": {
      "text/plain": [
       "<Axes: ylabel='Frequency'>"
      ]
     },
     "execution_count": 14,
     "metadata": {},
     "output_type": "execute_result"
    },
    {
     "data": {
      "image/png": "[encoded data removed]",
      "text/plain": [
       "<Figure size 640x480 with 1 Axes>"
      ]
     },
     "metadata": {},
     "output_type": "display_data"
    }
   ],
   "source": [
    "df[\"Protein1\"].plot(kind=\"hist\")"
   ]
  },
  {
   "cell_type": "code",
   "execution_count": 15,
   "id": "8d29b7dc",
   "metadata": {},
   "outputs": [
    {
     "data": {
      "text/plain": [
       "<Axes: >"
      ]
     },
     "execution_count": 15,
     "metadata": {},
     "output_type": "execute_result"
    },
    {
     "data": {
      "image/png": "[encoded data removed]",
      "text/plain": [
       "<Figure size 640x480 with 1 Axes>"
      ]
     },
     "metadata": {},
     "output_type": "display_data"
    }
   ],
   "source": [
    "sns.boxplot(df[\"Protein1\"])"
   ]
  },
  {
   "cell_type": "code",
   "execution_count": 16,
   "id": "ed453066",
   "metadata": {},
   "outputs": [
    {
     "data": {
      "text/html": [
       "<div>\n",
       "<style scoped>\n",
       "    .dataframe tbody tr th:only-of-type {\n",
       "        vertical-align: middle;\n",
       "    }\n",
       "\n",
       "    .dataframe tbody tr th {\n",
       "        vertical-align: top;\n",
       "    }\n",
       "\n",
       "    .dataframe thead th {\n",
       "        text-align: right;\n",
       "    }\n",
       "</style>\n",
       "<table border=\"1\" class=\"dataframe\">\n",
       "  <thead>\n",
       "    <tr style=\"text-align: right;\">\n",
       "      <th></th>\n",
       "      <th>Age</th>\n",
       "      <th>Gender</th>\n",
       "      <th>Protein1</th>\n",
       "      <th>Protein2</th>\n",
       "      <th>Protein3</th>\n",
       "      <th>Protein4</th>\n",
       "      <th>Tumour_Stage</th>\n",
       "      <th>Histology</th>\n",
       "      <th>ER status</th>\n",
       "      <th>PR status</th>\n",
       "      <th>HER2 status</th>\n",
       "      <th>Surgery_type</th>\n",
       "      <th>Date_of_Surgery</th>\n",
       "      <th>Date_of_Last_Visit</th>\n",
       "      <th>Patient_Status</th>\n",
       "    </tr>\n",
       "  </thead>\n",
       "  <tbody>\n",
       "    <tr>\n",
       "      <th>191</th>\n",
       "      <td>68</td>\n",
       "      <td>MALE</td>\n",
       "      <td>1.4704</td>\n",
       "      <td>0.4690</td>\n",
       "      <td>0.135540</td>\n",
       "      <td>-0.28984</td>\n",
       "      <td>II</td>\n",
       "      <td>Infiltrating Ductal Carcinoma</td>\n",
       "      <td>Positive</td>\n",
       "      <td>Positive</td>\n",
       "      <td>Negative</td>\n",
       "      <td>Modified Radical Mastectomy</td>\n",
       "      <td>25-Apr-19</td>\n",
       "      <td>18-Apr-20</td>\n",
       "      <td>Alive</td>\n",
       "    </tr>\n",
       "    <tr>\n",
       "      <th>274</th>\n",
       "      <td>50</td>\n",
       "      <td>FEMALE</td>\n",
       "      <td>1.5936</td>\n",
       "      <td>1.6752</td>\n",
       "      <td>-0.038062</td>\n",
       "      <td>0.94426</td>\n",
       "      <td>II</td>\n",
       "      <td>Infiltrating Ductal Carcinoma</td>\n",
       "      <td>Positive</td>\n",
       "      <td>Positive</td>\n",
       "      <td>Negative</td>\n",
       "      <td>Lumpectomy</td>\n",
       "      <td>21-Nov-17</td>\n",
       "      <td>22-Jul-20</td>\n",
       "      <td>Alive</td>\n",
       "    </tr>\n",
       "  </tbody>\n",
       "</table>\n",
       "</div>"
      ],
      "text/plain": [
       "     Age  Gender  Protein1  Protein2  Protein3  Protein4 Tumour_Stage  \\\n",
       "191   68    MALE    1.4704    0.4690  0.135540  -0.28984           II   \n",
       "274   50  FEMALE    1.5936    1.6752 -0.038062   0.94426           II   \n",
       "\n",
       "                         Histology ER status PR status HER2 status  \\\n",
       "191  Infiltrating Ductal Carcinoma  Positive  Positive    Negative   \n",
       "274  Infiltrating Ductal Carcinoma  Positive  Positive    Negative   \n",
       "\n",
       "                    Surgery_type Date_of_Surgery Date_of_Last_Visit  \\\n",
       "191  Modified Radical Mastectomy       25-Apr-19          18-Apr-20   \n",
       "274                   Lumpectomy       21-Nov-17          22-Jul-20   \n",
       "\n",
       "    Patient_Status  \n",
       "191          Alive  \n",
       "274          Alive  "
      ]
     },
     "execution_count": 16,
     "metadata": {},
     "output_type": "execute_result"
    }
   ],
   "source": [
    "df[df[\"Protein1\"]>1.3]"
   ]
  },
  {
   "cell_type": "code",
   "execution_count": 17,
   "id": "1eb07e8f",
   "metadata": {},
   "outputs": [
    {
     "data": {
      "text/plain": [
       "<Axes: ylabel='Density'>"
      ]
     },
     "execution_count": 17,
     "metadata": {},
     "output_type": "execute_result"
    },
    {
     "data": {
      "image/png": "[encoded data removed]",
      "text/plain": [
       "<Figure size 640x480 with 1 Axes>"
      ]
     },
     "metadata": {},
     "output_type": "display_data"
    }
   ],
   "source": [
    "df[\"Protein1\"].plot(kind=\"kde\")"
   ]
  },
  {
   "cell_type": "markdown",
   "id": "c5f03c2c",
   "metadata": {},
   "source": [
    "# conclusion->\n",
    "       1.There are some outliers.\n",
    "       2.Many of peoples have deficeny in protein 1.\n",
    "       3.Only 2 of them have 1.4.0 of Protein 1."
   ]
  },
  {
   "cell_type": "code",
   "execution_count": 18,
   "id": "a2ec7c58",
   "metadata": {},
   "outputs": [
    {
     "data": {
      "text/plain": [
       "count    334.000000\n",
       "mean       0.946896\n",
       "std        0.911637\n",
       "min       -0.978730\n",
       "25%        0.362173\n",
       "50%        0.992805\n",
       "75%        1.627900\n",
       "max        3.402200\n",
       "Name: Protein2, dtype: float64"
      ]
     },
     "execution_count": 18,
     "metadata": {},
     "output_type": "execute_result"
    }
   ],
   "source": [
    "df[\"Protein2\"].describe()"
   ]
  },
  {
   "cell_type": "code",
   "execution_count": 19,
   "id": "1b6503b2",
   "metadata": {},
   "outputs": [
    {
     "data": {
      "text/plain": [
       "<Axes: ylabel='Frequency'>"
      ]
     },
     "execution_count": 19,
     "metadata": {},
     "output_type": "execute_result"
    },
    {
     "data": {
      "image/png": "[encoded data removed]",
      "text/plain": [
       "<Figure size 640x480 with 1 Axes>"
      ]
     },
     "metadata": {},
     "output_type": "display_data"
    }
   ],
   "source": [
    "df[\"Protein2\"].plot(kind=\"hist\")"
   ]
  },
  {
   "cell_type": "code",
   "execution_count": 20,
   "id": "43b19038",
   "metadata": {},
   "outputs": [
    {
     "data": {
      "text/plain": [
       "<Axes: ylabel='Density'>"
      ]
     },
     "execution_count": 20,
     "metadata": {},
     "output_type": "execute_result"
    },
    {
     "data": {
      "image/png": "[encoded data removed]",
      "text/plain": [
       "<Figure size 640x480 with 1 Axes>"
      ]
     },
     "metadata": {},
     "output_type": "display_data"
    }
   ],
   "source": [
    "df[\"Protein1\"].plot(kind=\"kde\")"
   ]
  },
  {
   "cell_type": "code",
   "execution_count": 21,
   "id": "329145fa",
   "metadata": {},
   "outputs": [
    {
     "data": {
      "text/plain": [
       "<Axes: >"
      ]
     },
     "execution_count": 21,
     "metadata": {},
     "output_type": "execute_result"
    },
    {
     "data": {
      "image/png": "[encoded data removed]",
      "text/plain": [
       "<Figure size 640x480 with 1 Axes>"
      ]
     },
     "metadata": {},
     "output_type": "display_data"
    }
   ],
   "source": [
    "sns.boxplot(df[\"Protein2\"])"
   ]
  },
  {
   "cell_type": "code",
   "execution_count": 22,
   "id": "0fafcebb",
   "metadata": {},
   "outputs": [
    {
     "data": {
      "text/plain": [
       "<Axes: ylabel='Frequency'>"
      ]
     },
     "execution_count": 22,
     "metadata": {},
     "output_type": "execute_result"
    },
    {
     "data": {
      "image/png": "[encoded data removed]",
      "text/plain": [
       "<Figure size 640x480 with 1 Axes>"
      ]
     },
     "metadata": {},
     "output_type": "display_data"
    }
   ],
   "source": [
    "df[\"Protein3\"].plot(kind=\"hist\")"
   ]
  },
  {
   "cell_type": "code",
   "execution_count": 23,
   "id": "42aa4fe2",
   "metadata": {},
   "outputs": [
    {
     "data": {
      "text/plain": [
       "count    334.000000\n",
       "mean      -0.090204\n",
       "std        0.585175\n",
       "min       -1.627400\n",
       "25%       -0.513748\n",
       "50%       -0.173180\n",
       "75%        0.278353\n",
       "max        2.193400\n",
       "Name: Protein3, dtype: float64"
      ]
     },
     "execution_count": 23,
     "metadata": {},
     "output_type": "execute_result"
    }
   ],
   "source": [
    "df[\"Protein3\"].describe()"
   ]
  },
  {
   "cell_type": "code",
   "execution_count": 24,
   "id": "539525ad",
   "metadata": {},
   "outputs": [
    {
     "data": {
      "text/plain": [
       "<Axes: ylabel='Density'>"
      ]
     },
     "execution_count": 24,
     "metadata": {},
     "output_type": "execute_result"
    },
    {
     "data": {
      "image/png": "[encoded data removed]",
      "text/plain": [
       "<Figure size 640x480 with 1 Axes>"
      ]
     },
     "metadata": {},
     "output_type": "display_data"
    }
   ],
   "source": [
    "df[\"Protein3\"].plot(kind=\"kde\")"
   ]
  },
  {
   "cell_type": "code",
   "execution_count": 25,
   "id": "2c33d3f9",
   "metadata": {},
   "outputs": [
    {
     "data": {
      "text/plain": [
       "<Axes: >"
      ]
     },
     "execution_count": 25,
     "metadata": {},
     "output_type": "execute_result"
    },
    {
     "data": {
      "image/png": "[encoded data removed]",
      "text/plain": [
       "<Figure size 640x480 with 1 Axes>"
      ]
     },
     "metadata": {},
     "output_type": "display_data"
    }
   ],
   "source": [
    "sns.boxplot(df[\"Protein3\"])"
   ]
  },
  {
   "cell_type": "code",
   "execution_count": 26,
   "id": "c7e15a5a",
   "metadata": {},
   "outputs": [
    {
     "data": {
      "text/html": [
       "<div>\n",
       "<style scoped>\n",
       "    .dataframe tbody tr th:only-of-type {\n",
       "        vertical-align: middle;\n",
       "    }\n",
       "\n",
       "    .dataframe tbody tr th {\n",
       "        vertical-align: top;\n",
       "    }\n",
       "\n",
       "    .dataframe thead th {\n",
       "        text-align: right;\n",
       "    }\n",
       "</style>\n",
       "<table border=\"1\" class=\"dataframe\">\n",
       "  <thead>\n",
       "    <tr style=\"text-align: right;\">\n",
       "      <th></th>\n",
       "      <th>Age</th>\n",
       "      <th>Gender</th>\n",
       "      <th>Protein1</th>\n",
       "      <th>Protein2</th>\n",
       "      <th>Protein3</th>\n",
       "      <th>Protein4</th>\n",
       "      <th>Tumour_Stage</th>\n",
       "      <th>Histology</th>\n",
       "      <th>ER status</th>\n",
       "      <th>PR status</th>\n",
       "      <th>HER2 status</th>\n",
       "      <th>Surgery_type</th>\n",
       "      <th>Date_of_Surgery</th>\n",
       "      <th>Date_of_Last_Visit</th>\n",
       "      <th>Patient_Status</th>\n",
       "    </tr>\n",
       "  </thead>\n",
       "  <tbody>\n",
       "    <tr>\n",
       "      <th>190</th>\n",
       "      <td>54</td>\n",
       "      <td>FEMALE</td>\n",
       "      <td>0.326710</td>\n",
       "      <td>-0.29499</td>\n",
       "      <td>1.7691</td>\n",
       "      <td>0.770870</td>\n",
       "      <td>II</td>\n",
       "      <td>Infiltrating Ductal Carcinoma</td>\n",
       "      <td>Positive</td>\n",
       "      <td>Positive</td>\n",
       "      <td>Negative</td>\n",
       "      <td>Modified Radical Mastectomy</td>\n",
       "      <td>22-Nov-18</td>\n",
       "      <td>11-Apr-19</td>\n",
       "      <td>Alive</td>\n",
       "    </tr>\n",
       "    <tr>\n",
       "      <th>211</th>\n",
       "      <td>51</td>\n",
       "      <td>FEMALE</td>\n",
       "      <td>-0.851870</td>\n",
       "      <td>1.67600</td>\n",
       "      <td>1.7019</td>\n",
       "      <td>-0.078298</td>\n",
       "      <td>II</td>\n",
       "      <td>Infiltrating Ductal Carcinoma</td>\n",
       "      <td>Positive</td>\n",
       "      <td>Positive</td>\n",
       "      <td>Negative</td>\n",
       "      <td>Other</td>\n",
       "      <td>11-Mar-18</td>\n",
       "      <td>11-Jun-19</td>\n",
       "      <td>Dead</td>\n",
       "    </tr>\n",
       "    <tr>\n",
       "      <th>236</th>\n",
       "      <td>64</td>\n",
       "      <td>FEMALE</td>\n",
       "      <td>-0.338660</td>\n",
       "      <td>-0.64147</td>\n",
       "      <td>1.6575</td>\n",
       "      <td>-0.420820</td>\n",
       "      <td>III</td>\n",
       "      <td>Infiltrating Ductal Carcinoma</td>\n",
       "      <td>Positive</td>\n",
       "      <td>Positive</td>\n",
       "      <td>Negative</td>\n",
       "      <td>Other</td>\n",
       "      <td>05-Jan-19</td>\n",
       "      <td>06-Oct-20</td>\n",
       "      <td>Alive</td>\n",
       "    </tr>\n",
       "    <tr>\n",
       "      <th>313</th>\n",
       "      <td>51</td>\n",
       "      <td>FEMALE</td>\n",
       "      <td>0.090487</td>\n",
       "      <td>-0.63873</td>\n",
       "      <td>2.1934</td>\n",
       "      <td>-0.838430</td>\n",
       "      <td>II</td>\n",
       "      <td>Infiltrating Ductal Carcinoma</td>\n",
       "      <td>Positive</td>\n",
       "      <td>Positive</td>\n",
       "      <td>Negative</td>\n",
       "      <td>Modified Radical Mastectomy</td>\n",
       "      <td>24-Feb-19</td>\n",
       "      <td>05-Dec-20</td>\n",
       "      <td>Alive</td>\n",
       "    </tr>\n",
       "  </tbody>\n",
       "</table>\n",
       "</div>"
      ],
      "text/plain": [
       "     Age  Gender  Protein1  Protein2  Protein3  Protein4 Tumour_Stage  \\\n",
       "190   54  FEMALE  0.326710  -0.29499    1.7691  0.770870           II   \n",
       "211   51  FEMALE -0.851870   1.67600    1.7019 -0.078298           II   \n",
       "236   64  FEMALE -0.338660  -0.64147    1.6575 -0.420820          III   \n",
       "313   51  FEMALE  0.090487  -0.63873    2.1934 -0.838430           II   \n",
       "\n",
       "                         Histology ER status PR status HER2 status  \\\n",
       "190  Infiltrating Ductal Carcinoma  Positive  Positive    Negative   \n",
       "211  Infiltrating Ductal Carcinoma  Positive  Positive    Negative   \n",
       "236  Infiltrating Ductal Carcinoma  Positive  Positive    Negative   \n",
       "313  Infiltrating Ductal Carcinoma  Positive  Positive    Negative   \n",
       "\n",
       "                    Surgery_type Date_of_Surgery Date_of_Last_Visit  \\\n",
       "190  Modified Radical Mastectomy       22-Nov-18          11-Apr-19   \n",
       "211                        Other       11-Mar-18          11-Jun-19   \n",
       "236                        Other       05-Jan-19          06-Oct-20   \n",
       "313  Modified Radical Mastectomy       24-Feb-19          05-Dec-20   \n",
       "\n",
       "    Patient_Status  \n",
       "190          Alive  \n",
       "211           Dead  \n",
       "236          Alive  \n",
       "313          Alive  "
      ]
     },
     "execution_count": 26,
     "metadata": {},
     "output_type": "execute_result"
    }
   ],
   "source": [
    "df[df[\"Protein3\"]>1.6]"
   ]
  },
  {
   "cell_type": "markdown",
   "id": "73025cb7",
   "metadata": {},
   "source": [
    "# Conclusion\n",
    "      1.protein3 is normally distributed.\n",
    "      2.It consist of some outliers.\n",
    "      3.Only one person has more than 2.0 protein"
   ]
  },
  {
   "cell_type": "code",
   "execution_count": 27,
   "id": "56977f15",
   "metadata": {},
   "outputs": [
    {
     "data": {
      "text/plain": [
       "<Axes: ylabel='Frequency'>"
      ]
     },
     "execution_count": 27,
     "metadata": {},
     "output_type": "execute_result"
    },
    {
     "data": {
      "image/png": "[encoded data removed]",
      "text/plain": [
       "<Figure size 640x480 with 1 Axes>"
      ]
     },
     "metadata": {},
     "output_type": "display_data"
    }
   ],
   "source": [
    "df[\"Protein3\"].plot(kind=\"hist\")"
   ]
  },
  {
   "cell_type": "code",
   "execution_count": 28,
   "id": "4dcdfe36",
   "metadata": {},
   "outputs": [
    {
     "data": {
      "text/plain": [
       "<Axes: >"
      ]
     },
     "execution_count": 28,
     "metadata": {},
     "output_type": "execute_result"
    },
    {
     "data": {
      "image/png": "[encoded data removed]",
      "text/plain": [
       "<Figure size 640x480 with 1 Axes>"
      ]
     },
     "metadata": {},
     "output_type": "display_data"
    }
   ],
   "source": [
    "sns.boxplot(df[\"Protein4\"])"
   ]
  },
  {
   "cell_type": "code",
   "execution_count": 29,
   "id": "5cdaaaa0",
   "metadata": {},
   "outputs": [
    {
     "data": {
      "text/plain": [
       "<Axes: ylabel='Density'>"
      ]
     },
     "execution_count": 29,
     "metadata": {},
     "output_type": "execute_result"
    },
    {
     "data": {
      "image/png": "[encoded data removed]",
      "text/plain": [
       "<Figure size 640x480 with 1 Axes>"
      ]
     },
     "metadata": {},
     "output_type": "display_data"
    }
   ],
   "source": [
    "df[\"Protein4\"].plot(kind=\"kde\")"
   ]
  },
  {
   "cell_type": "code",
   "execution_count": 30,
   "id": "3d2a7d5f",
   "metadata": {},
   "outputs": [],
   "source": [
    "# now on univariate analysis on categorical variables.\n",
    "#Categorical Variables:->\"Tumour_Stage\",\"ER status\",\"PR status\",\n",
    "#\"HER2 status\",\"Surgery_type\",\"Patient_Status\""
   ]
  },
  {
   "cell_type": "code",
   "execution_count": 31,
   "id": "372cf3fe",
   "metadata": {},
   "outputs": [],
   "source": [
    "df_name=df[\"Tumour_Stage\"].value_counts().index"
   ]
  },
  {
   "cell_type": "code",
   "execution_count": 32,
   "id": "b75881d2",
   "metadata": {},
   "outputs": [],
   "source": [
    "df_values=df[\"Tumour_Stage\"].value_counts().values"
   ]
  },
  {
   "cell_type": "code",
   "execution_count": 33,
   "id": "9c99b1a8",
   "metadata": {},
   "outputs": [
    {
     "data": {
      "text/plain": [
       "([<matplotlib.patches.Wedge at 0x1d3586d4250>,\n",
       "  <matplotlib.patches.Wedge at 0x1d359835fd0>,\n",
       "  <matplotlib.patches.Wedge at 0x1d359837e10>],\n",
       " [Text(-0.22600333562782562, 1.076532624812224, 'II'),\n",
       "  Text(-0.4233403926383604, -1.0152747962797062, 'III'),\n",
       "  Text(0.9066364550022049, -0.6229047587400782, 'I')],\n",
       " [Text(-0.12327454670608669, 0.5871996135339403, '56.5868%'),\n",
       "  Text(-0.23091294143910562, -0.5537862525162033, '24.2515%'),\n",
       "  Text(0.4945289754557481, -0.33976623204004264, '19.1617%')])"
      ]
     },
     "execution_count": 33,
     "metadata": {},
     "output_type": "execute_result"
    },
    {
     "data": {
      "image/png": "[encoded data removed]",
      "text/plain": [
       "<Figure size 640x480 with 1 Axes>"
      ]
     },
     "metadata": {},
     "output_type": "display_data"
    }
   ],
   "source": [
    "plt.pie(df_values,labels=df_name,autopct=\"%1.4f%%\")"
   ]
  },
  {
   "cell_type": "code",
   "execution_count": 34,
   "id": "45603878",
   "metadata": {},
   "outputs": [
    {
     "data": {
      "text/plain": [
       "0"
      ]
     },
     "execution_count": 34,
     "metadata": {},
     "output_type": "execute_result"
    }
   ],
   "source": [
    "df[\"Tumour_Stage\"].isnull().sum()"
   ]
  },
  {
   "cell_type": "markdown",
   "id": "21d116be",
   "metadata": {},
   "source": [
    "# Conclusion\n",
    "      1.MAjority of peoples have 2nd{II} stage of Tumour.\n",
    "      2.It's does not have any missing values.\n",
    "      3.Its shows that precaution should be taken so that the doctors are easily caught the cancer in            the 1st stage."
   ]
  },
  {
   "cell_type": "code",
   "execution_count": 35,
   "id": "aca8d107",
   "metadata": {},
   "outputs": [],
   "source": [
    "df_name=df[\"ER status\"].value_counts().index"
   ]
  },
  {
   "cell_type": "code",
   "execution_count": 36,
   "id": "5123644b",
   "metadata": {},
   "outputs": [],
   "source": [
    "df_values=df[\"ER status\"].value_counts().values"
   ]
  },
  {
   "cell_type": "code",
   "execution_count": 37,
   "id": "6cc04780",
   "metadata": {},
   "outputs": [
    {
     "data": {
      "text/plain": [
       "([<matplotlib.patches.Wedge at 0x1d35987c050>],\n",
       " [Text(-1.1, 1.3471114790620887e-16, 'Positive')],\n",
       " [Text(-0.6, 7.347880794884119e-17, '100.000000%')])"
      ]
     },
     "execution_count": 37,
     "metadata": {},
     "output_type": "execute_result"
    },
    {
     "data": {
      "image/png": "[encoded data removed]",
      "text/plain": [
       "<Figure size 640x480 with 1 Axes>"
      ]
     },
     "metadata": {},
     "output_type": "display_data"
    }
   ],
   "source": [
    "plt.pie(df_values,labels=df_name,autopct=\"%1.6f%%\")"
   ]
  },
  {
   "cell_type": "code",
   "execution_count": 38,
   "id": "1628c0d0",
   "metadata": {},
   "outputs": [],
   "source": [
    "df_name=df[\"HER2 status\"].value_counts().index"
   ]
  },
  {
   "cell_type": "code",
   "execution_count": 39,
   "id": "c4e4812a",
   "metadata": {},
   "outputs": [],
   "source": [
    "df_values=df[\"HER2 status\"].value_counts().values"
   ]
  },
  {
   "cell_type": "code",
   "execution_count": 40,
   "id": "773ca054",
   "metadata": {},
   "outputs": [
    {
     "data": {
      "text/plain": [
       "([<matplotlib.patches.Wedge at 0x1d3598a7450>,\n",
       "  <matplotlib.patches.Wedge at 0x1d3598ca410>],\n",
       " [Text(-1.0593303169977075, 0.29634317857770337, 'Negative'),\n",
       "  Text(1.059330337806943, -0.2963431041914564, 'Positive')],\n",
       " [Text(-0.5778165365442041, 0.16164173376965635, '91.31737%'),\n",
       "  Text(0.577816547894696, -0.1616416931953398, '8.68263%')])"
      ]
     },
     "execution_count": 40,
     "metadata": {},
     "output_type": "execute_result"
    },
    {
     "data": {
      "image/png": "[encoded data removed]",
      "text/plain": [
       "<Figure size 640x480 with 1 Axes>"
      ]
     },
     "metadata": {},
     "output_type": "display_data"
    }
   ],
   "source": [
    "plt.pie(df_values,labels=df_name,autopct=\"%1.5F%%\")"
   ]
  },
  {
   "cell_type": "code",
   "execution_count": 41,
   "id": "bb81d8be",
   "metadata": {},
   "outputs": [
    {
     "data": {
      "text/plain": [
       "0"
      ]
     },
     "execution_count": 41,
     "metadata": {},
     "output_type": "execute_result"
    }
   ],
   "source": [
    "df[\"HER2 status\"].isnull().sum()"
   ]
  },
  {
   "cell_type": "markdown",
   "id": "1c2aad64",
   "metadata": {},
   "source": [
    "# Conclusion:->\n",
    "    1.Its shows that majority of the HER_STATUS HAS BECOME NEGATIVE\n",
    "    2.It's does not have any null values."
   ]
  },
  {
   "cell_type": "code",
   "execution_count": 84,
   "id": "6febb74e",
   "metadata": {},
   "outputs": [],
   "source": [
    "df_name=df[\"Gender\"].value_counts().index"
   ]
  },
  {
   "cell_type": "code",
   "execution_count": 85,
   "id": "5706bf75",
   "metadata": {},
   "outputs": [],
   "source": [
    "df_values=df[\"Gender\"].value_counts().values"
   ]
  },
  {
   "cell_type": "code",
   "execution_count": 86,
   "id": "90c6e379",
   "metadata": {},
   "outputs": [
    {
     "data": {
      "text/plain": [
       "([<matplotlib.patches.Wedge at 0x1d363b3a410>,\n",
       "  <matplotlib.patches.Wedge at 0x1d363b6a790>],\n",
       " [Text(-1.0992215345083538, 0.0413765401296453, '330'),\n",
       "  Text(1.099221532571377, -0.04137659158791915, '4')],\n",
       " [Text(-0.599575382459102, 0.022569021888897433, '98.8024%'),\n",
       "  Text(0.5995753814025692, -0.022569049957046804, '1.1976%')])"
      ]
     },
     "execution_count": 86,
     "metadata": {},
     "output_type": "execute_result"
    },
    {
     "data": {
      "image/png": "[encoded data removed]",
      "text/plain": [
       "<Figure size 640x480 with 1 Axes>"
      ]
     },
     "metadata": {},
     "output_type": "display_data"
    }
   ],
   "source": [
    "plt.pie(df_name,labels=df_values,autopct=\"%1.4f%%\")"
   ]
  },
  {
   "cell_type": "code",
   "execution_count": 50,
   "id": "14f96aa4",
   "metadata": {},
   "outputs": [
    {
     "data": {
      "text/plain": [
       "0"
      ]
     },
     "execution_count": 50,
     "metadata": {},
     "output_type": "execute_result"
    }
   ],
   "source": [
    "df[\"Gender\"].isnull().sum()"
   ]
  },
  {
   "cell_type": "markdown",
   "id": "cfec6dc3",
   "metadata": {},
   "source": [
    "# Conclusion\n",
    "      1. Its shows that majority of females are effective by this disease\n",
    "      2.It does not  have any  missing values."
   ]
  },
  {
   "cell_type": "code",
   "execution_count": 51,
   "id": "b775f940",
   "metadata": {},
   "outputs": [],
   "source": [
    "#univariate analysis on  Surgery_type"
   ]
  },
  {
   "cell_type": "code",
   "execution_count": 52,
   "id": "41df4dbe",
   "metadata": {},
   "outputs": [],
   "source": [
    "df_name=df[\"Surgery_type\"].value_counts().index"
   ]
  },
  {
   "cell_type": "code",
   "execution_count": 53,
   "id": "26a87bad",
   "metadata": {},
   "outputs": [],
   "source": [
    "df_values=df[\"Surgery_type\"].value_counts().values"
   ]
  },
  {
   "cell_type": "code",
   "execution_count": 54,
   "id": "4e7824bd",
   "metadata": {},
   "outputs": [
    {
     "data": {
      "text/plain": [
       "([<matplotlib.patches.Wedge at 0x1d35ee96e10>,\n",
       "  <matplotlib.patches.Wedge at 0x1d35ee95cd0>,\n",
       "  <matplotlib.patches.Wedge at 0x1d35ee97bd0>,\n",
       "  <matplotlib.patches.Wedge at 0x1d35ee681d0>],\n",
       " [Text(0.6057399429033888, 0.9181934009626727, 'Other'),\n",
       "  Text(-1.0620707995185799, 0.2863662284731991, 'Modified Radical Mastectomy'),\n",
       "  Text(-0.3261133017774468, -1.0505475307685095, 'Simple Mastectomy'),\n",
       "  Text(0.8947587590659113, -0.639849015842668, 'Lumpectomy')],\n",
       " [Text(0.3304036052200302, 0.5008327641614577, '31.4371%'),\n",
       "  Text(-0.5793113451919526, 0.15619976098538133, '28.7425%'),\n",
       "  Text(-0.17787998278769823, -0.5730259258737324, '20.0599%'),\n",
       "  Text(0.4880502322177697, -0.3490085540960007, '19.7605%')])"
      ]
     },
     "execution_count": 54,
     "metadata": {},
     "output_type": "execute_result"
    },
    {
     "data": {
      "image/png": "[encoded data removed]",
      "text/plain": [
       "<Figure size 640x480 with 1 Axes>"
      ]
     },
     "metadata": {},
     "output_type": "display_data"
    }
   ],
   "source": [
    "plt.pie(df_values,labels=df_name,autopct=\"%1.4f%%\")"
   ]
  },
  {
   "cell_type": "code",
   "execution_count": 55,
   "id": "ae53c05c",
   "metadata": {},
   "outputs": [
    {
     "data": {
      "text/plain": [
       "0"
      ]
     },
     "execution_count": 55,
     "metadata": {},
     "output_type": "execute_result"
    }
   ],
   "source": [
    "df[\"Surgery_type\"].isnull().sum()"
   ]
  },
  {
   "cell_type": "markdown",
   "id": "142c93ca",
   "metadata": {},
   "source": [
    "# Conclusion.\n",
    "      1.Other surgury have occur mostly.\n",
    "      2.Than Modified Radical Mastectomy have the highest percentage.\n",
    "      3.Than Simple Mastectomy have the 2nd best percentage.\n",
    "      4.Than Lumpectomy have the 3rd best percentage.\n",
    "      5.It's consist of Outliers."
   ]
  },
  {
   "cell_type": "code",
   "execution_count": 56,
   "id": "8f502b0e",
   "metadata": {},
   "outputs": [],
   "source": [
    "#univariate analysis on Patient_Status"
   ]
  },
  {
   "cell_type": "code",
   "execution_count": 57,
   "id": "e79d4c81",
   "metadata": {},
   "outputs": [],
   "source": [
    "df_name=df[\"Patient_Status\"].value_counts().index"
   ]
  },
  {
   "cell_type": "code",
   "execution_count": 58,
   "id": "befcfa66",
   "metadata": {},
   "outputs": [],
   "source": [
    "df_values=df[\"Patient_Status\"].value_counts().values"
   ]
  },
  {
   "cell_type": "code",
   "execution_count": 59,
   "id": "43baf573",
   "metadata": {},
   "outputs": [
    {
     "data": {
      "text/plain": [
       "([<matplotlib.patches.Wedge at 0x1d35efa45d0>,\n",
       "  <matplotlib.patches.Wedge at 0x1d35efa5a50>],\n",
       " [Text(-0.8783910736734167, 0.662139805245737, 'Alive'),\n",
       "  Text(0.8783910736734168, -0.6621398052457367, 'Dead')],\n",
       " [Text(-0.4791224038218636, 0.36116716649767466, '79.4393%'),\n",
       "  Text(0.47912240382186366, -0.36116716649767455, '20.5607%')])"
      ]
     },
     "execution_count": 59,
     "metadata": {},
     "output_type": "execute_result"
    },
    {
     "data": {
      "image/png": "[encoded data removed]",
      "text/plain": [
       "<Figure size 640x480 with 1 Axes>"
      ]
     },
     "metadata": {},
     "output_type": "display_data"
    }
   ],
   "source": [
    "plt.pie(df_values,labels=df_name,autopct=\"%1.4f%%\")"
   ]
  },
  {
   "cell_type": "code",
   "execution_count": 60,
   "id": "26c71df3",
   "metadata": {},
   "outputs": [
    {
     "data": {
      "text/plain": [
       "13"
      ]
     },
     "execution_count": 60,
     "metadata": {},
     "output_type": "execute_result"
    }
   ],
   "source": [
    "df[\"Patient_Status\"].isnull().sum()"
   ]
  },
  {
   "cell_type": "markdown",
   "id": "2bd4950a",
   "metadata": {},
   "source": [
    "# Conclusion:->\n",
    "     1.Majority of womens and mens are alive after surgury of cancer means that we can control\n",
    "        this disease.\n",
    "     2.It consist of missing values which means some people does not have submitted their status. "
   ]
  },
  {
   "cell_type": "code",
   "execution_count": 61,
   "id": "d9c4ecbc",
   "metadata": {},
   "outputs": [],
   "source": [
    "#Bivariate analysis"
   ]
  },
  {
   "cell_type": "markdown",
   "id": "77be2dff",
   "metadata": {},
   "source": [
    "# Steps of doing Bivariate Analysis\n",
    "Select 2 cols\n",
    "\n",
    "Understand type of relationship\n",
    "\n",
    "     1.Numerical - Numerical\n",
    "     a. You can plot graphs like scatterplot(regression plots), 2D histplot, 2D KDEplots\n",
    "     b. Check correlation coefficent to check linear relationship\n",
    "     2.Numerical - Categorical - \n",
    "     a.create visualizations that compare the distribution of the numerical data across different categories of the categorical data.\n",
    "     b.You can plot graphs like barplot, boxplot, kdeplot violinplot even scatterplots\n",
    "     3.Categorical - Categorical\n",
    "     a. You can create cross-tabulations or contingency tables that show the distribution of values in one categorical column, grouped by the values in the other categorical column.\n",
    "     b. You can plots like heatmap, stacked barplots, treemaps"
   ]
  },
  {
   "cell_type": "code",
   "execution_count": 62,
   "id": "d09408d0",
   "metadata": {},
   "outputs": [
    {
     "data": {
      "text/html": [
       "<div>\n",
       "<style scoped>\n",
       "    .dataframe tbody tr th:only-of-type {\n",
       "        vertical-align: middle;\n",
       "    }\n",
       "\n",
       "    .dataframe tbody tr th {\n",
       "        vertical-align: top;\n",
       "    }\n",
       "\n",
       "    .dataframe thead th {\n",
       "        text-align: right;\n",
       "    }\n",
       "</style>\n",
       "<table border=\"1\" class=\"dataframe\">\n",
       "  <thead>\n",
       "    <tr style=\"text-align: right;\">\n",
       "      <th></th>\n",
       "      <th>Age</th>\n",
       "      <th>Gender</th>\n",
       "      <th>Protein1</th>\n",
       "      <th>Protein2</th>\n",
       "      <th>Protein3</th>\n",
       "      <th>Protein4</th>\n",
       "      <th>Tumour_Stage</th>\n",
       "      <th>Histology</th>\n",
       "      <th>ER status</th>\n",
       "      <th>PR status</th>\n",
       "      <th>HER2 status</th>\n",
       "      <th>Surgery_type</th>\n",
       "      <th>Date_of_Surgery</th>\n",
       "      <th>Date_of_Last_Visit</th>\n",
       "      <th>Patient_Status</th>\n",
       "    </tr>\n",
       "  </thead>\n",
       "  <tbody>\n",
       "    <tr>\n",
       "      <th>0</th>\n",
       "      <td>42</td>\n",
       "      <td>FEMALE</td>\n",
       "      <td>0.95256</td>\n",
       "      <td>2.1500</td>\n",
       "      <td>0.007972</td>\n",
       "      <td>-0.04834</td>\n",
       "      <td>II</td>\n",
       "      <td>Infiltrating Ductal Carcinoma</td>\n",
       "      <td>Positive</td>\n",
       "      <td>Positive</td>\n",
       "      <td>Negative</td>\n",
       "      <td>Other</td>\n",
       "      <td>20-May-18</td>\n",
       "      <td>26-Aug-18</td>\n",
       "      <td>Alive</td>\n",
       "    </tr>\n",
       "    <tr>\n",
       "      <th>1</th>\n",
       "      <td>54</td>\n",
       "      <td>FEMALE</td>\n",
       "      <td>0.00000</td>\n",
       "      <td>1.3802</td>\n",
       "      <td>-0.498030</td>\n",
       "      <td>-0.50732</td>\n",
       "      <td>II</td>\n",
       "      <td>Infiltrating Ductal Carcinoma</td>\n",
       "      <td>Positive</td>\n",
       "      <td>Positive</td>\n",
       "      <td>Negative</td>\n",
       "      <td>Other</td>\n",
       "      <td>26-Apr-18</td>\n",
       "      <td>25-Jan-19</td>\n",
       "      <td>Dead</td>\n",
       "    </tr>\n",
       "  </tbody>\n",
       "</table>\n",
       "</div>"
      ],
      "text/plain": [
       "   Age  Gender  Protein1  Protein2  Protein3  Protein4 Tumour_Stage  \\\n",
       "0   42  FEMALE   0.95256    2.1500  0.007972  -0.04834           II   \n",
       "1   54  FEMALE   0.00000    1.3802 -0.498030  -0.50732           II   \n",
       "\n",
       "                       Histology ER status PR status HER2 status Surgery_type  \\\n",
       "0  Infiltrating Ductal Carcinoma  Positive  Positive    Negative        Other   \n",
       "1  Infiltrating Ductal Carcinoma  Positive  Positive    Negative        Other   \n",
       "\n",
       "  Date_of_Surgery Date_of_Last_Visit Patient_Status  \n",
       "0       20-May-18          26-Aug-18          Alive  \n",
       "1       26-Apr-18          25-Jan-19           Dead  "
      ]
     },
     "execution_count": 62,
     "metadata": {},
     "output_type": "execute_result"
    }
   ],
   "source": [
    "df.head(2)"
   ]
  },
  {
   "cell_type": "code",
   "execution_count": null,
   "id": "8d2e3e94",
   "metadata": {},
   "outputs": [],
   "source": []
  },
  {
   "cell_type": "code",
   "execution_count": 63,
   "id": "97f83cb6",
   "metadata": {},
   "outputs": [],
   "source": [
    "#handling missing value\n",
    "df[\"Patient_Status\"]=df[\"Patient_Status\"].fillna(df[\"Patient_Status\"].mode()[0])"
   ]
  },
  {
   "cell_type": "code",
   "execution_count": 64,
   "id": "cff94e0e",
   "metadata": {},
   "outputs": [
    {
     "data": {
      "image/png": "[encoded data removed]",
      "text/plain": [
       "<Figure size 640x480 with 1 Axes>"
      ]
     },
     "metadata": {},
     "output_type": "display_data"
    }
   ],
   "source": [
    "\n",
    "df[df['Patient_Status'] == 'Alive']['Age'].plot(kind='kde',label='Survived')\n",
    "df[df['Patient_Status'] == 'Dead']['Age'].plot(kind='kde',label='NotSurvived')\n",
    "plt.legend()\n",
    "plt.show()"
   ]
  },
  {
   "cell_type": "code",
   "execution_count": 65,
   "id": "c867abab",
   "metadata": {},
   "outputs": [
    {
     "data": {
      "text/html": [
       "<div>\n",
       "<style scoped>\n",
       "    .dataframe tbody tr th:only-of-type {\n",
       "        vertical-align: middle;\n",
       "    }\n",
       "\n",
       "    .dataframe tbody tr th {\n",
       "        vertical-align: top;\n",
       "    }\n",
       "\n",
       "    .dataframe thead th {\n",
       "        text-align: right;\n",
       "    }\n",
       "</style>\n",
       "<table border=\"1\" class=\"dataframe\">\n",
       "  <thead>\n",
       "    <tr style=\"text-align: right;\">\n",
       "      <th>Gender</th>\n",
       "      <th>FEMALE</th>\n",
       "      <th>MALE</th>\n",
       "    </tr>\n",
       "    <tr>\n",
       "      <th>Patient_Status</th>\n",
       "      <th></th>\n",
       "      <th></th>\n",
       "    </tr>\n",
       "  </thead>\n",
       "  <tbody>\n",
       "    <tr>\n",
       "      <th>Alive</th>\n",
       "      <td>80.30303</td>\n",
       "      <td>75.0</td>\n",
       "    </tr>\n",
       "    <tr>\n",
       "      <th>Dead</th>\n",
       "      <td>19.69697</td>\n",
       "      <td>25.0</td>\n",
       "    </tr>\n",
       "  </tbody>\n",
       "</table>\n",
       "</div>"
      ],
      "text/plain": [
       "Gender            FEMALE  MALE\n",
       "Patient_Status                \n",
       "Alive           80.30303  75.0\n",
       "Dead            19.69697  25.0"
      ]
     },
     "execution_count": 65,
     "metadata": {},
     "output_type": "execute_result"
    }
   ],
   "source": [
    "\n",
    "#for categorical-categorical data.\n",
    "pd.crosstab(df[\"Patient_Status\"],df[\"Gender\"],normalize=\"columns\")*100"
   ]
  },
  {
   "cell_type": "code",
   "execution_count": 66,
   "id": "3e83ba93",
   "metadata": {},
   "outputs": [
    {
     "data": {
      "text/plain": [
       "<Axes: xlabel='Gender', ylabel='Patient_Status'>"
      ]
     },
     "execution_count": 66,
     "metadata": {},
     "output_type": "execute_result"
    },
    {
     "data": {
      "image/png": "[encoded data removed]",
      "text/plain": [
       "<Figure size 640x480 with 2 Axes>"
      ]
     },
     "metadata": {},
     "output_type": "display_data"
    }
   ],
   "source": [
    "sns.heatmap(pd.crosstab(df[\"Patient_Status\"],df[\"Gender\"],normalize=\"columns\")*100,annot=True,cmap=\"coolwarm\")"
   ]
  },
  {
   "cell_type": "markdown",
   "id": "3a3d0d74",
   "metadata": {},
   "source": [
    "# conclusion.\n",
    "     1.It shows majority of womens are alive than men after affected by this disease."
   ]
  },
  {
   "cell_type": "code",
   "execution_count": 67,
   "id": "dca21886",
   "metadata": {},
   "outputs": [],
   "source": [
    "# now bivariate analysis on patient and Tumour_Stage"
   ]
  },
  {
   "cell_type": "code",
   "execution_count": 68,
   "id": "3ecfd364",
   "metadata": {},
   "outputs": [
    {
     "data": {
      "text/html": [
       "<div>\n",
       "<style scoped>\n",
       "    .dataframe tbody tr th:only-of-type {\n",
       "        vertical-align: middle;\n",
       "    }\n",
       "\n",
       "    .dataframe tbody tr th {\n",
       "        vertical-align: top;\n",
       "    }\n",
       "\n",
       "    .dataframe thead th {\n",
       "        text-align: right;\n",
       "    }\n",
       "</style>\n",
       "<table border=\"1\" class=\"dataframe\">\n",
       "  <thead>\n",
       "    <tr style=\"text-align: right;\">\n",
       "      <th>Tumour_Stage</th>\n",
       "      <th>I</th>\n",
       "      <th>II</th>\n",
       "      <th>III</th>\n",
       "    </tr>\n",
       "    <tr>\n",
       "      <th>Patient_Status</th>\n",
       "      <th></th>\n",
       "      <th></th>\n",
       "      <th></th>\n",
       "    </tr>\n",
       "  </thead>\n",
       "  <tbody>\n",
       "    <tr>\n",
       "      <th>Alive</th>\n",
       "      <td>84.375</td>\n",
       "      <td>79.89418</td>\n",
       "      <td>77.777778</td>\n",
       "    </tr>\n",
       "    <tr>\n",
       "      <th>Dead</th>\n",
       "      <td>15.625</td>\n",
       "      <td>20.10582</td>\n",
       "      <td>22.222222</td>\n",
       "    </tr>\n",
       "  </tbody>\n",
       "</table>\n",
       "</div>"
      ],
      "text/plain": [
       "Tumour_Stage         I        II        III\n",
       "Patient_Status                             \n",
       "Alive           84.375  79.89418  77.777778\n",
       "Dead            15.625  20.10582  22.222222"
      ]
     },
     "execution_count": 68,
     "metadata": {},
     "output_type": "execute_result"
    }
   ],
   "source": [
    "pd.crosstab(df[\"Patient_Status\"],df[\"Tumour_Stage\"],normalize=\"columns\")*100"
   ]
  },
  {
   "cell_type": "code",
   "execution_count": 69,
   "id": "3d1607d2",
   "metadata": {},
   "outputs": [
    {
     "data": {
      "text/plain": [
       "<Axes: xlabel='Tumour_Stage', ylabel='Patient_Status'>"
      ]
     },
     "execution_count": 69,
     "metadata": {},
     "output_type": "execute_result"
    },
    {
     "data": {
      "image/png": "[encoded data removed]",
      "text/plain": [
       "<Figure size 640x480 with 2 Axes>"
      ]
     },
     "metadata": {},
     "output_type": "display_data"
    }
   ],
   "source": [
    "sns.heatmap(pd.crosstab(df[\"Patient_Status\"],df[\"Tumour_Stage\"],normalize=\"columns\")*100,annot=True,cmap=\"Blues\")"
   ]
  },
  {
   "cell_type": "code",
   "execution_count": 70,
   "id": "9be7c343",
   "metadata": {},
   "outputs": [],
   "source": [
    "#bivaraiate analysis on Patient_Status and Surgery_type"
   ]
  },
  {
   "cell_type": "code",
   "execution_count": 71,
   "id": "f2d382b0",
   "metadata": {},
   "outputs": [
    {
     "data": {
      "text/html": [
       "<div>\n",
       "<style scoped>\n",
       "    .dataframe tbody tr th:only-of-type {\n",
       "        vertical-align: middle;\n",
       "    }\n",
       "\n",
       "    .dataframe tbody tr th {\n",
       "        vertical-align: top;\n",
       "    }\n",
       "\n",
       "    .dataframe thead th {\n",
       "        text-align: right;\n",
       "    }\n",
       "</style>\n",
       "<table border=\"1\" class=\"dataframe\">\n",
       "  <thead>\n",
       "    <tr style=\"text-align: right;\">\n",
       "      <th>Surgery_type</th>\n",
       "      <th>Lumpectomy</th>\n",
       "      <th>Modified Radical Mastectomy</th>\n",
       "      <th>Other</th>\n",
       "      <th>Simple Mastectomy</th>\n",
       "    </tr>\n",
       "    <tr>\n",
       "      <th>Patient_Status</th>\n",
       "      <th></th>\n",
       "      <th></th>\n",
       "      <th></th>\n",
       "      <th></th>\n",
       "    </tr>\n",
       "  </thead>\n",
       "  <tbody>\n",
       "    <tr>\n",
       "      <th>Alive</th>\n",
       "      <td>86.363636</td>\n",
       "      <td>79.166667</td>\n",
       "      <td>76.190476</td>\n",
       "      <td>82.089552</td>\n",
       "    </tr>\n",
       "    <tr>\n",
       "      <th>Dead</th>\n",
       "      <td>13.636364</td>\n",
       "      <td>20.833333</td>\n",
       "      <td>23.809524</td>\n",
       "      <td>17.910448</td>\n",
       "    </tr>\n",
       "  </tbody>\n",
       "</table>\n",
       "</div>"
      ],
      "text/plain": [
       "Surgery_type    Lumpectomy  Modified Radical Mastectomy      Other  \\\n",
       "Patient_Status                                                       \n",
       "Alive            86.363636                    79.166667  76.190476   \n",
       "Dead             13.636364                    20.833333  23.809524   \n",
       "\n",
       "Surgery_type    Simple Mastectomy  \n",
       "Patient_Status                     \n",
       "Alive                   82.089552  \n",
       "Dead                    17.910448  "
      ]
     },
     "execution_count": 71,
     "metadata": {},
     "output_type": "execute_result"
    }
   ],
   "source": [
    "pd.crosstab(df[\"Patient_Status\"],df[\"Surgery_type\"],normalize=\"columns\")*100"
   ]
  },
  {
   "cell_type": "code",
   "execution_count": 72,
   "id": "fe0e4eb3",
   "metadata": {},
   "outputs": [
    {
     "data": {
      "text/plain": [
       "<Axes: xlabel='Surgery_type', ylabel='Patient_Status'>"
      ]
     },
     "execution_count": 72,
     "metadata": {},
     "output_type": "execute_result"
    },
    {
     "data": {
      "image/png": "[encoded data removed]",
      "text/plain": [
       "<Figure size 640x480 with 2 Axes>"
      ]
     },
     "metadata": {},
     "output_type": "display_data"
    }
   ],
   "source": [
    "sns.heatmap(pd.crosstab(df[\"Patient_Status\"],df[\"Surgery_type\"],normalize=\"columns\")*100,annot=True,cmap=\"viridis\")"
   ]
  },
  {
   "cell_type": "markdown",
   "id": "4d7009da",
   "metadata": {},
   "source": [
    "# conclusion\n",
    "     1.It shows that high chance of alive is when u have to choose this Lumpectomy surgury"
   ]
  },
  {
   "cell_type": "markdown",
   "id": "ee81f84a",
   "metadata": {},
   "source": [
    "# #Feature engineering"
   ]
  },
  {
   "cell_type": "code",
   "execution_count": 73,
   "id": "c113cfd5",
   "metadata": {},
   "outputs": [
    {
     "data": {
      "text/html": [
       "<div>\n",
       "<style scoped>\n",
       "    .dataframe tbody tr th:only-of-type {\n",
       "        vertical-align: middle;\n",
       "    }\n",
       "\n",
       "    .dataframe tbody tr th {\n",
       "        vertical-align: top;\n",
       "    }\n",
       "\n",
       "    .dataframe thead th {\n",
       "        text-align: right;\n",
       "    }\n",
       "</style>\n",
       "<table border=\"1\" class=\"dataframe\">\n",
       "  <thead>\n",
       "    <tr style=\"text-align: right;\">\n",
       "      <th></th>\n",
       "      <th>Age</th>\n",
       "      <th>Gender</th>\n",
       "      <th>Protein1</th>\n",
       "      <th>Protein2</th>\n",
       "      <th>Protein3</th>\n",
       "      <th>Protein4</th>\n",
       "      <th>Tumour_Stage</th>\n",
       "      <th>Histology</th>\n",
       "      <th>ER status</th>\n",
       "      <th>PR status</th>\n",
       "      <th>HER2 status</th>\n",
       "      <th>Surgery_type</th>\n",
       "      <th>Date_of_Surgery</th>\n",
       "      <th>Date_of_Last_Visit</th>\n",
       "      <th>Patient_Status</th>\n",
       "    </tr>\n",
       "  </thead>\n",
       "  <tbody>\n",
       "    <tr>\n",
       "      <th>0</th>\n",
       "      <td>42</td>\n",
       "      <td>FEMALE</td>\n",
       "      <td>0.95256</td>\n",
       "      <td>2.1500</td>\n",
       "      <td>0.007972</td>\n",
       "      <td>-0.04834</td>\n",
       "      <td>II</td>\n",
       "      <td>Infiltrating Ductal Carcinoma</td>\n",
       "      <td>Positive</td>\n",
       "      <td>Positive</td>\n",
       "      <td>Negative</td>\n",
       "      <td>Other</td>\n",
       "      <td>20-May-18</td>\n",
       "      <td>26-Aug-18</td>\n",
       "      <td>Alive</td>\n",
       "    </tr>\n",
       "    <tr>\n",
       "      <th>1</th>\n",
       "      <td>54</td>\n",
       "      <td>FEMALE</td>\n",
       "      <td>0.00000</td>\n",
       "      <td>1.3802</td>\n",
       "      <td>-0.498030</td>\n",
       "      <td>-0.50732</td>\n",
       "      <td>II</td>\n",
       "      <td>Infiltrating Ductal Carcinoma</td>\n",
       "      <td>Positive</td>\n",
       "      <td>Positive</td>\n",
       "      <td>Negative</td>\n",
       "      <td>Other</td>\n",
       "      <td>26-Apr-18</td>\n",
       "      <td>25-Jan-19</td>\n",
       "      <td>Dead</td>\n",
       "    </tr>\n",
       "  </tbody>\n",
       "</table>\n",
       "</div>"
      ],
      "text/plain": [
       "   Age  Gender  Protein1  Protein2  Protein3  Protein4 Tumour_Stage  \\\n",
       "0   42  FEMALE   0.95256    2.1500  0.007972  -0.04834           II   \n",
       "1   54  FEMALE   0.00000    1.3802 -0.498030  -0.50732           II   \n",
       "\n",
       "                       Histology ER status PR status HER2 status Surgery_type  \\\n",
       "0  Infiltrating Ductal Carcinoma  Positive  Positive    Negative        Other   \n",
       "1  Infiltrating Ductal Carcinoma  Positive  Positive    Negative        Other   \n",
       "\n",
       "  Date_of_Surgery Date_of_Last_Visit Patient_Status  \n",
       "0       20-May-18          26-Aug-18          Alive  \n",
       "1       26-Apr-18          25-Jan-19           Dead  "
      ]
     },
     "execution_count": 73,
     "metadata": {},
     "output_type": "execute_result"
    }
   ],
   "source": [
    "df.head(2)"
   ]
  },
  {
   "cell_type": "code",
   "execution_count": 74,
   "id": "f3bd4f7f",
   "metadata": {},
   "outputs": [],
   "source": [
    "# now handle date "
   ]
  },
  {
   "cell_type": "code",
   "execution_count": 75,
   "id": "efc6ceaa",
   "metadata": {},
   "outputs": [],
   "source": [
    "df[\"Date\"]=df[\"Date_of_Surgery\"].str.split(\"-\").str[0]\n",
    "df[\"Month\"]=df[\"Date_of_Surgery\"].str.split(\"-\").str[1]\n",
    "df[\"Year_of_Surgury\"]=df[\"Date_of_Surgery\"].str.split(\"-\").str[2]"
   ]
  },
  {
   "cell_type": "code",
   "execution_count": 76,
   "id": "fd981dc8",
   "metadata": {},
   "outputs": [],
   "source": [
    "df.drop(\"Date_of_Surgery\",axis=1,inplace=True)"
   ]
  },
  {
   "cell_type": "code",
   "execution_count": 80,
   "id": "241dd0a2",
   "metadata": {},
   "outputs": [],
   "source": [
    "df[\"Date_of\"]=df[\"Date_of_Last_Visit\"].str.split(\"-\").str[0]\n",
    "df[\"Month_of\"]=df[\"Date_of_Last_Visit\"].str.split(\"-\").str[1]\n"
   ]
  },
  {
   "cell_type": "code",
   "execution_count": 88,
   "id": "d22e3fed",
   "metadata": {},
   "outputs": [],
   "source": [
    "df.drop(\"Date_of_Last_Visit\",axis=1,inplace=True)"
   ]
  },
  {
   "cell_type": "code",
   "execution_count": 116,
   "id": "c8f9d30d",
   "metadata": {},
   "outputs": [
    {
     "data": {
      "text/plain": [
       "0      1\n",
       "1      1\n",
       "2      1\n",
       "3      0\n",
       "4      1\n",
       "      ..\n",
       "329    1\n",
       "330    0\n",
       "331    1\n",
       "332    1\n",
       "333    1\n",
       "Name: Tumour_Stage, Length: 334, dtype: int32"
      ]
     },
     "execution_count": 116,
     "metadata": {},
     "output_type": "execute_result"
    }
   ],
   "source": [
    "df[\"Tumour_Stage\"].astype(int)"
   ]
  },
  {
   "cell_type": "code",
   "execution_count": 117,
   "id": "f74ad175",
   "metadata": {},
   "outputs": [],
   "source": [
    "#Now dealing with the categorical Data."
   ]
  },
  {
   "cell_type": "code",
   "execution_count": 118,
   "id": "2a5b9bad",
   "metadata": {},
   "outputs": [],
   "source": [
    "from sklearn.preprocessing import LabelEncoder"
   ]
  },
  {
   "cell_type": "code",
   "execution_count": 119,
   "id": "3524b410",
   "metadata": {},
   "outputs": [],
   "source": [
    "encoder=LabelEncoder()"
   ]
  },
  {
   "cell_type": "code",
   "execution_count": 120,
   "id": "d878de2e",
   "metadata": {},
   "outputs": [],
   "source": [
    "df[\"Gender\"]=encoder.fit_transform(df[\"Gender\"])"
   ]
  },
  {
   "cell_type": "code",
   "execution_count": 121,
   "id": "131358d4",
   "metadata": {},
   "outputs": [],
   "source": [
    "df[\"Tumour_Stage\"]=encoder.fit_transform(df[\"Tumour_Stage\"])"
   ]
  },
  {
   "cell_type": "code",
   "execution_count": 122,
   "id": "a61fe588",
   "metadata": {},
   "outputs": [],
   "source": [
    "df[\"ER status\"]=encoder.fit_transform(df[\"ER status\"])"
   ]
  },
  {
   "cell_type": "code",
   "execution_count": 123,
   "id": "7b8f6609",
   "metadata": {},
   "outputs": [],
   "source": [
    "df[\"PR status\"]=encoder.fit_transform(df[\"PR status\"])"
   ]
  },
  {
   "cell_type": "code",
   "execution_count": 124,
   "id": "49aee766",
   "metadata": {},
   "outputs": [],
   "source": [
    "df[\"HER2 status\"]=encoder.fit_transform(df[\"HER2 status\"])"
   ]
  },
  {
   "cell_type": "code",
   "execution_count": 125,
   "id": "cef8eee6",
   "metadata": {},
   "outputs": [],
   "source": [
    "df[\"Patient_Status\"]=encoder.fit_transform(df[\"Patient_Status\"])"
   ]
  },
  {
   "cell_type": "code",
   "execution_count": 126,
   "id": "c487e415",
   "metadata": {},
   "outputs": [],
   "source": [
    "#now handle the missing values."
   ]
  },
  {
   "cell_type": "code",
   "execution_count": 127,
   "id": "cab930f6",
   "metadata": {},
   "outputs": [
    {
     "data": {
      "text/plain": [
       "Age                   0\n",
       "Gender                0\n",
       "Protein1              0\n",
       "Protein2              0\n",
       "Protein3              0\n",
       "Protein4              0\n",
       "Tumour_Stage          0\n",
       "Histology             0\n",
       "ER status             0\n",
       "PR status             0\n",
       "HER2 status           0\n",
       "Surgery_type          0\n",
       "Patient_Status        0\n",
       "Date                  0\n",
       "Month                 0\n",
       "Year_of_Surgury       0\n",
       "Date_of               0\n",
       "Month_of              0\n",
       "Year_OF_Last_Visit    0\n",
       "dtype: int64"
      ]
     },
     "execution_count": 127,
     "metadata": {},
     "output_type": "execute_result"
    }
   ],
   "source": [
    "df.isnull().sum()"
   ]
  },
  {
   "cell_type": "code",
   "execution_count": 128,
   "id": "d3dcc352",
   "metadata": {},
   "outputs": [],
   "source": [
    "df[\"Date_of\"]=df[\"Date_of\"].fillna(df[\"Date_of\"].mode()[0])"
   ]
  },
  {
   "cell_type": "code",
   "execution_count": 129,
   "id": "d5a694b2",
   "metadata": {},
   "outputs": [],
   "source": [
    "df[\"Month_of\"]=df[\"Month_of\"].fillna(df[\"Month_of\"].mode()[0])"
   ]
  },
  {
   "cell_type": "code",
   "execution_count": 130,
   "id": "de68bffa",
   "metadata": {},
   "outputs": [],
   "source": [
    "df[\"Year_OF_Last_Visit\"]=df[\"Year_OF_Last_Visit\"].fillna(df[\"Year_OF_Last_Visit\"].mode()[0])"
   ]
  },
  {
   "cell_type": "code",
   "execution_count": 131,
   "id": "6e6cac99",
   "metadata": {},
   "outputs": [
    {
     "data": {
      "text/html": [
       "<div>\n",
       "<style scoped>\n",
       "    .dataframe tbody tr th:only-of-type {\n",
       "        vertical-align: middle;\n",
       "    }\n",
       "\n",
       "    .dataframe tbody tr th {\n",
       "        vertical-align: top;\n",
       "    }\n",
       "\n",
       "    .dataframe thead th {\n",
       "        text-align: right;\n",
       "    }\n",
       "</style>\n",
       "<table border=\"1\" class=\"dataframe\">\n",
       "  <thead>\n",
       "    <tr style=\"text-align: right;\">\n",
       "      <th></th>\n",
       "      <th>Age</th>\n",
       "      <th>Gender</th>\n",
       "      <th>Protein1</th>\n",
       "      <th>Protein2</th>\n",
       "      <th>Protein3</th>\n",
       "      <th>Protein4</th>\n",
       "      <th>Tumour_Stage</th>\n",
       "      <th>Histology</th>\n",
       "      <th>ER status</th>\n",
       "      <th>PR status</th>\n",
       "      <th>HER2 status</th>\n",
       "      <th>Surgery_type</th>\n",
       "      <th>Patient_Status</th>\n",
       "      <th>Date</th>\n",
       "      <th>Month</th>\n",
       "      <th>Year_of_Surgury</th>\n",
       "      <th>Date_of</th>\n",
       "      <th>Month_of</th>\n",
       "      <th>Year_OF_Last_Visit</th>\n",
       "    </tr>\n",
       "  </thead>\n",
       "  <tbody>\n",
       "    <tr>\n",
       "      <th>0</th>\n",
       "      <td>42</td>\n",
       "      <td>0</td>\n",
       "      <td>0.95256</td>\n",
       "      <td>2.15000</td>\n",
       "      <td>0.007972</td>\n",
       "      <td>-0.048340</td>\n",
       "      <td>1</td>\n",
       "      <td>Infiltrating Ductal Carcinoma</td>\n",
       "      <td>0</td>\n",
       "      <td>0</td>\n",
       "      <td>0</td>\n",
       "      <td>Other</td>\n",
       "      <td>0</td>\n",
       "      <td>20</td>\n",
       "      <td>May</td>\n",
       "      <td>18</td>\n",
       "      <td>26</td>\n",
       "      <td>Aug</td>\n",
       "      <td>18</td>\n",
       "    </tr>\n",
       "    <tr>\n",
       "      <th>1</th>\n",
       "      <td>54</td>\n",
       "      <td>0</td>\n",
       "      <td>0.00000</td>\n",
       "      <td>1.38020</td>\n",
       "      <td>-0.498030</td>\n",
       "      <td>-0.507320</td>\n",
       "      <td>1</td>\n",
       "      <td>Infiltrating Ductal Carcinoma</td>\n",
       "      <td>0</td>\n",
       "      <td>0</td>\n",
       "      <td>0</td>\n",
       "      <td>Other</td>\n",
       "      <td>1</td>\n",
       "      <td>26</td>\n",
       "      <td>Apr</td>\n",
       "      <td>18</td>\n",
       "      <td>25</td>\n",
       "      <td>Jan</td>\n",
       "      <td>19</td>\n",
       "    </tr>\n",
       "    <tr>\n",
       "      <th>2</th>\n",
       "      <td>63</td>\n",
       "      <td>0</td>\n",
       "      <td>-0.52303</td>\n",
       "      <td>1.76400</td>\n",
       "      <td>-0.370190</td>\n",
       "      <td>0.010815</td>\n",
       "      <td>1</td>\n",
       "      <td>Infiltrating Ductal Carcinoma</td>\n",
       "      <td>0</td>\n",
       "      <td>0</td>\n",
       "      <td>0</td>\n",
       "      <td>Lumpectomy</td>\n",
       "      <td>0</td>\n",
       "      <td>24</td>\n",
       "      <td>Aug</td>\n",
       "      <td>18</td>\n",
       "      <td>08</td>\n",
       "      <td>Apr</td>\n",
       "      <td>20</td>\n",
       "    </tr>\n",
       "    <tr>\n",
       "      <th>3</th>\n",
       "      <td>78</td>\n",
       "      <td>0</td>\n",
       "      <td>-0.87618</td>\n",
       "      <td>0.12943</td>\n",
       "      <td>-0.370380</td>\n",
       "      <td>0.132190</td>\n",
       "      <td>0</td>\n",
       "      <td>Infiltrating Ductal Carcinoma</td>\n",
       "      <td>0</td>\n",
       "      <td>0</td>\n",
       "      <td>0</td>\n",
       "      <td>Other</td>\n",
       "      <td>0</td>\n",
       "      <td>16</td>\n",
       "      <td>Nov</td>\n",
       "      <td>18</td>\n",
       "      <td>28</td>\n",
       "      <td>Jul</td>\n",
       "      <td>20</td>\n",
       "    </tr>\n",
       "    <tr>\n",
       "      <th>4</th>\n",
       "      <td>42</td>\n",
       "      <td>0</td>\n",
       "      <td>0.22611</td>\n",
       "      <td>1.74910</td>\n",
       "      <td>-0.543970</td>\n",
       "      <td>-0.390210</td>\n",
       "      <td>1</td>\n",
       "      <td>Infiltrating Ductal Carcinoma</td>\n",
       "      <td>0</td>\n",
       "      <td>0</td>\n",
       "      <td>1</td>\n",
       "      <td>Lumpectomy</td>\n",
       "      <td>0</td>\n",
       "      <td>12</td>\n",
       "      <td>Dec</td>\n",
       "      <td>18</td>\n",
       "      <td>05</td>\n",
       "      <td>Jan</td>\n",
       "      <td>19</td>\n",
       "    </tr>\n",
       "  </tbody>\n",
       "</table>\n",
       "</div>"
      ],
      "text/plain": [
       "   Age  Gender  Protein1  Protein2  Protein3  Protein4  Tumour_Stage  \\\n",
       "0   42       0   0.95256   2.15000  0.007972 -0.048340             1   \n",
       "1   54       0   0.00000   1.38020 -0.498030 -0.507320             1   \n",
       "2   63       0  -0.52303   1.76400 -0.370190  0.010815             1   \n",
       "3   78       0  -0.87618   0.12943 -0.370380  0.132190             0   \n",
       "4   42       0   0.22611   1.74910 -0.543970 -0.390210             1   \n",
       "\n",
       "                       Histology  ER status  PR status  HER2 status  \\\n",
       "0  Infiltrating Ductal Carcinoma          0          0            0   \n",
       "1  Infiltrating Ductal Carcinoma          0          0            0   \n",
       "2  Infiltrating Ductal Carcinoma          0          0            0   \n",
       "3  Infiltrating Ductal Carcinoma          0          0            0   \n",
       "4  Infiltrating Ductal Carcinoma          0          0            1   \n",
       "\n",
       "  Surgery_type  Patient_Status Date Month Year_of_Surgury Date_of Month_of  \\\n",
       "0        Other               0   20   May              18      26      Aug   \n",
       "1        Other               1   26   Apr              18      25      Jan   \n",
       "2   Lumpectomy               0   24   Aug              18      08      Apr   \n",
       "3        Other               0   16   Nov              18      28      Jul   \n",
       "4   Lumpectomy               0   12   Dec              18      05      Jan   \n",
       "\n",
       "  Year_OF_Last_Visit  \n",
       "0                 18  \n",
       "1                 19  \n",
       "2                 20  \n",
       "3                 20  \n",
       "4                 19  "
      ]
     },
     "execution_count": 131,
     "metadata": {},
     "output_type": "execute_result"
    }
   ],
   "source": [
    "df.head()"
   ]
  },
  {
   "cell_type": "code",
   "execution_count": null,
   "id": "a9950bb1",
   "metadata": {},
   "outputs": [],
   "source": []
  },
  {
   "cell_type": "code",
   "execution_count": null,
   "id": "d5c23f6f",
   "metadata": {},
   "outputs": [],
   "source": []
  },
  {
   "cell_type": "code",
   "execution_count": null,
   "id": "7a8f365b",
   "metadata": {},
   "outputs": [],
   "source": []
  },
  {
   "cell_type": "code",
   "execution_count": null,
   "id": "32c7160c",
   "metadata": {},
   "outputs": [],
   "source": []
  }
 ],
 "metadata": {
  "kernelspec": {
   "display_name": "Python 3 (ipykernel)",
   "language": "python",
   "name": "python3"
  },
  "language_info": {
   "codemirror_mode": {
    "name": "ipython",
    "version": 3
   },
   "file_extension": ".py",
   "mimetype": "text/x-python",
   "name": "python",
   "nbconvert_exporter": "python",
   "pygments_lexer": "ipython3",
   "version": "3.11.4"
  }
 },
 "nbformat": 4,
 "nbformat_minor": 5
}
